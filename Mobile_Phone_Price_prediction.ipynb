{
  "cells": [
    {
      "cell_type": "markdown",
      "metadata": {
        "id": "view-in-github",
        "colab_type": "text"
      },
      "source": [
        "<a href=\"https://colab.research.google.com/github/akinolanath5519/Mobile-Phone-Price-Prediction/blob/main/Mobile_Phone_Price_prediction.ipynb\" target=\"_parent\"><img src=\"https://colab.research.google.com/assets/colab-badge.svg\" alt=\"Open In Colab\"/></a>"
      ]
    },
    {
      "cell_type": "markdown",
      "metadata": {
        "id": "oXaf24q2hNAc"
      },
      "source": [
        "## MOBILE PRICE PREDICTION"
      ],
      "id": "oXaf24q2hNAc"
    },
    {
      "cell_type": "markdown",
      "metadata": {
        "id": "jRPeI5ZlkFoO"
      },
      "source": [
        "A mobile phone company have produced various phones overtime and their goods have been selling well all over the world\n",
        "but all of a sudden they observe that their phone have not been selling well due to various competition in the mobile phone\n",
        "market in order to beat competition their is a need to improve their phones and also set their price at fair price.\n"
      ],
      "id": "jRPeI5ZlkFoO"
    },
    {
      "cell_type": "markdown",
      "metadata": {
        "id": "f5b463e9"
      },
      "source": [
        "# AIMS AND OBJECTIVES OF THE PROJECT"
      ],
      "id": "f5b463e9"
    },
    {
      "cell_type": "markdown",
      "metadata": {
        "id": "X4XPyqnClT_H"
      },
      "source": [
        "1.Check the factors that have most impact on the prices of phone\n",
        "\n",
        "2.set a fair price by building machine learning model to categorize price into high,medium and low price\n",
        "to help customers verify they are paying fair price for mobile phone\n",
        "\n",
        "\n"
      ],
      "id": "X4XPyqnClT_H"
    },
    {
      "cell_type": "markdown",
      "metadata": {
        "id": "SxHEfH2gloo4"
      },
      "source": [
        "## APPROACH TO SOLVE THE PROBLEM"
      ],
      "id": "SxHEfH2gloo4"
    },
    {
      "cell_type": "markdown",
      "metadata": {
        "id": "p5czti34l5OG"
      },
      "source": [
        "In this machine learning project I will use supervised learning because our data is labelled i.e we have a target which is price_range ,then under this method I will use classification algorithm"
      ],
      "id": "p5czti34l5OG"
    },
    {
      "cell_type": "markdown",
      "metadata": {
        "id": "G3EyBpbUnEdP"
      },
      "source": [
        "## Reason for the Approach"
      ],
      "id": "G3EyBpbUnEdP"
    },
    {
      "cell_type": "markdown",
      "metadata": {
        "id": "kqIzPR_wnJIU"
      },
      "source": [
        "Price_range is in different categories like very high,high,low,very low so there is a need to classify price_range into different class using different classifier and see the model that is best for our data"
      ],
      "id": "kqIzPR_wnJIU"
    },
    {
      "cell_type": "markdown",
      "metadata": {
        "id": "60dd29eb"
      },
      "source": [
        "# Importing the libraries"
      ],
      "id": "60dd29eb"
    },
    {
      "cell_type": "code",
      "execution_count": null,
      "metadata": {
        "id": "jWQOWFTJplqC"
      },
      "outputs": [],
      "source": [
        "import pandas as pd\n",
        "import matplotlib.pyplot as plt\n",
        "import seaborn as sns\n",
        "import numpy as np\n",
        "%matplotlib inline"
      ],
      "id": "jWQOWFTJplqC"
    },
    {
      "cell_type": "code",
      "execution_count": null,
      "metadata": {
        "colab": {
          "background_save": true,
          "base_uri": "https://localhost:8080/",
          "height": 37
        },
        "id": "cQNChxKvOVVG",
        "outputId": "2774b846-7659-4b06-b594-73b5fa4830ca"
      },
      "outputs": [
        {
          "data": {
            "text/html": [
              "\n",
              "     <input type=\"file\" id=\"files-b3a7a361-1e10-4dda-ab02-c536b8118557\" name=\"files[]\" multiple disabled\n",
              "        style=\"border:none\" />\n",
              "     <output id=\"result-b3a7a361-1e10-4dda-ab02-c536b8118557\">\n",
              "      Upload widget is only available when the cell has been executed in the\n",
              "      current browser session. Please rerun this cell to enable.\n",
              "      </output>\n",
              "      <script>// Copyright 2017 Google LLC\n",
              "//\n",
              "// Licensed under the Apache License, Version 2.0 (the \"License\");\n",
              "// you may not use this file except in compliance with the License.\n",
              "// You may obtain a copy of the License at\n",
              "//\n",
              "//      http://www.apache.org/licenses/LICENSE-2.0\n",
              "//\n",
              "// Unless required by applicable law or agreed to in writing, software\n",
              "// distributed under the License is distributed on an \"AS IS\" BASIS,\n",
              "// WITHOUT WARRANTIES OR CONDITIONS OF ANY KIND, either express or implied.\n",
              "// See the License for the specific language governing permissions and\n",
              "// limitations under the License.\n",
              "\n",
              "/**\n",
              " * @fileoverview Helpers for google.colab Python module.\n",
              " */\n",
              "(function(scope) {\n",
              "function span(text, styleAttributes = {}) {\n",
              "  const element = document.createElement('span');\n",
              "  element.textContent = text;\n",
              "  for (const key of Object.keys(styleAttributes)) {\n",
              "    element.style[key] = styleAttributes[key];\n",
              "  }\n",
              "  return element;\n",
              "}\n",
              "\n",
              "// Max number of bytes which will be uploaded at a time.\n",
              "const MAX_PAYLOAD_SIZE = 100 * 1024;\n",
              "\n",
              "function _uploadFiles(inputId, outputId) {\n",
              "  const steps = uploadFilesStep(inputId, outputId);\n",
              "  const outputElement = document.getElementById(outputId);\n",
              "  // Cache steps on the outputElement to make it available for the next call\n",
              "  // to uploadFilesContinue from Python.\n",
              "  outputElement.steps = steps;\n",
              "\n",
              "  return _uploadFilesContinue(outputId);\n",
              "}\n",
              "\n",
              "// This is roughly an async generator (not supported in the browser yet),\n",
              "// where there are multiple asynchronous steps and the Python side is going\n",
              "// to poll for completion of each step.\n",
              "// This uses a Promise to block the python side on completion of each step,\n",
              "// then passes the result of the previous step as the input to the next step.\n",
              "function _uploadFilesContinue(outputId) {\n",
              "  const outputElement = document.getElementById(outputId);\n",
              "  const steps = outputElement.steps;\n",
              "\n",
              "  const next = steps.next(outputElement.lastPromiseValue);\n",
              "  return Promise.resolve(next.value.promise).then((value) => {\n",
              "    // Cache the last promise value to make it available to the next\n",
              "    // step of the generator.\n",
              "    outputElement.lastPromiseValue = value;\n",
              "    return next.value.response;\n",
              "  });\n",
              "}\n",
              "\n",
              "/**\n",
              " * Generator function which is called between each async step of the upload\n",
              " * process.\n",
              " * @param {string} inputId Element ID of the input file picker element.\n",
              " * @param {string} outputId Element ID of the output display.\n",
              " * @return {!Iterable<!Object>} Iterable of next steps.\n",
              " */\n",
              "function* uploadFilesStep(inputId, outputId) {\n",
              "  const inputElement = document.getElementById(inputId);\n",
              "  inputElement.disabled = false;\n",
              "\n",
              "  const outputElement = document.getElementById(outputId);\n",
              "  outputElement.innerHTML = '';\n",
              "\n",
              "  const pickedPromise = new Promise((resolve) => {\n",
              "    inputElement.addEventListener('change', (e) => {\n",
              "      resolve(e.target.files);\n",
              "    });\n",
              "  });\n",
              "\n",
              "  const cancel = document.createElement('button');\n",
              "  inputElement.parentElement.appendChild(cancel);\n",
              "  cancel.textContent = 'Cancel upload';\n",
              "  const cancelPromise = new Promise((resolve) => {\n",
              "    cancel.onclick = () => {\n",
              "      resolve(null);\n",
              "    };\n",
              "  });\n",
              "\n",
              "  // Wait for the user to pick the files.\n",
              "  const files = yield {\n",
              "    promise: Promise.race([pickedPromise, cancelPromise]),\n",
              "    response: {\n",
              "      action: 'starting',\n",
              "    }\n",
              "  };\n",
              "\n",
              "  cancel.remove();\n",
              "\n",
              "  // Disable the input element since further picks are not allowed.\n",
              "  inputElement.disabled = true;\n",
              "\n",
              "  if (!files) {\n",
              "    return {\n",
              "      response: {\n",
              "        action: 'complete',\n",
              "      }\n",
              "    };\n",
              "  }\n",
              "\n",
              "  for (const file of files) {\n",
              "    const li = document.createElement('li');\n",
              "    li.append(span(file.name, {fontWeight: 'bold'}));\n",
              "    li.append(span(\n",
              "        `(${file.type || 'n/a'}) - ${file.size} bytes, ` +\n",
              "        `last modified: ${\n",
              "            file.lastModifiedDate ? file.lastModifiedDate.toLocaleDateString() :\n",
              "                                    'n/a'} - `));\n",
              "    const percent = span('0% done');\n",
              "    li.appendChild(percent);\n",
              "\n",
              "    outputElement.appendChild(li);\n",
              "\n",
              "    const fileDataPromise = new Promise((resolve) => {\n",
              "      const reader = new FileReader();\n",
              "      reader.onload = (e) => {\n",
              "        resolve(e.target.result);\n",
              "      };\n",
              "      reader.readAsArrayBuffer(file);\n",
              "    });\n",
              "    // Wait for the data to be ready.\n",
              "    let fileData = yield {\n",
              "      promise: fileDataPromise,\n",
              "      response: {\n",
              "        action: 'continue',\n",
              "      }\n",
              "    };\n",
              "\n",
              "    // Use a chunked sending to avoid message size limits. See b/62115660.\n",
              "    let position = 0;\n",
              "    do {\n",
              "      const length = Math.min(fileData.byteLength - position, MAX_PAYLOAD_SIZE);\n",
              "      const chunk = new Uint8Array(fileData, position, length);\n",
              "      position += length;\n",
              "\n",
              "      const base64 = btoa(String.fromCharCode.apply(null, chunk));\n",
              "      yield {\n",
              "        response: {\n",
              "          action: 'append',\n",
              "          file: file.name,\n",
              "          data: base64,\n",
              "        },\n",
              "      };\n",
              "\n",
              "      let percentDone = fileData.byteLength === 0 ?\n",
              "          100 :\n",
              "          Math.round((position / fileData.byteLength) * 100);\n",
              "      percent.textContent = `${percentDone}% done`;\n",
              "\n",
              "    } while (position < fileData.byteLength);\n",
              "  }\n",
              "\n",
              "  // All done.\n",
              "  yield {\n",
              "    response: {\n",
              "      action: 'complete',\n",
              "    }\n",
              "  };\n",
              "}\n",
              "\n",
              "scope.google = scope.google || {};\n",
              "scope.google.colab = scope.google.colab || {};\n",
              "scope.google.colab._files = {\n",
              "  _uploadFiles,\n",
              "  _uploadFilesContinue,\n",
              "};\n",
              "})(self);\n",
              "</script> "
            ],
            "text/plain": [
              "<IPython.core.display.HTML object>"
            ]
          },
          "metadata": {},
          "output_type": "display_data"
        }
      ],
      "source": [
        "from google.colab import files\n",
        "mobile=files.upload()"
      ],
      "id": "cQNChxKvOVVG"
    },
    {
      "cell_type": "code",
      "execution_count": null,
      "metadata": {
        "id": "f61db929"
      },
      "outputs": [],
      "source": [
        "mobile=pd.read_csv(\"mobile phone price prediction.csv\")"
      ],
      "id": "f61db929"
    },
    {
      "cell_type": "markdown",
      "metadata": {
        "id": "d2a1af2b"
      },
      "source": [
        "# Loading the data"
      ],
      "id": "d2a1af2b"
    },
    {
      "cell_type": "code",
      "execution_count": null,
      "metadata": {
        "id": "00553f98"
      },
      "outputs": [],
      "source": [
        "mobile"
      ],
      "id": "00553f98"
    },
    {
      "cell_type": "markdown",
      "metadata": {
        "id": "3c4e28f4"
      },
      "source": [
        "# Exploratory Data Analysis"
      ],
      "id": "3c4e28f4"
    },
    {
      "cell_type": "code",
      "execution_count": null,
      "metadata": {
        "id": "94f952a9"
      },
      "outputs": [],
      "source": [
        "#checking the Statistics\n",
        "mobile.describe().transpose()"
      ],
      "id": "94f952a9"
    },
    {
      "cell_type": "code",
      "execution_count": null,
      "metadata": {
        "id": "d5f941c1"
      },
      "outputs": [],
      "source": [
        "#checking the info\n",
        "mobile.info()"
      ],
      "id": "d5f941c1"
    },
    {
      "cell_type": "code",
      "execution_count": null,
      "metadata": {
        "id": "73c8e1e6"
      },
      "outputs": [],
      "source": [
        "#checking for missing values\n",
        "mobile.isnull().sum()"
      ],
      "id": "73c8e1e6"
    },
    {
      "cell_type": "markdown",
      "metadata": {
        "id": "f63632c4"
      },
      "source": [
        "There are no missing values in the data"
      ],
      "id": "f63632c4"
    },
    {
      "cell_type": "code",
      "execution_count": null,
      "metadata": {
        "id": "5f07c374"
      },
      "outputs": [],
      "source": [
        "#counting the number of unique values in price_range\n",
        "mobile[\"price_range\"].value_counts()"
      ],
      "id": "5f07c374"
    },
    {
      "cell_type": "markdown",
      "metadata": {
        "id": "9c43ca92"
      },
      "source": [
        "We can see we have the same number of values in price range"
      ],
      "id": "9c43ca92"
    },
    {
      "cell_type": "code",
      "execution_count": null,
      "metadata": {
        "id": "40dd6278"
      },
      "outputs": [],
      "source": [
        "#Checking for rows and column in the data\n",
        "mobile.shape"
      ],
      "id": "40dd6278"
    },
    {
      "cell_type": "markdown",
      "metadata": {
        "id": "1fcf7269"
      },
      "source": [
        "There are 2000 rows and 21 columns respectively"
      ],
      "id": "1fcf7269"
    },
    {
      "cell_type": "code",
      "execution_count": null,
      "metadata": {
        "id": "f397e972"
      },
      "outputs": [],
      "source": [
        "#Visualizing the number of price range\n",
        "sns.countplot(x=\"price_range\",data=mobile)\n",
        "plt.title(\"price range\")\n",
        "plt.show()"
      ],
      "id": "f397e972"
    },
    {
      "cell_type": "markdown",
      "metadata": {
        "id": "d193a450"
      },
      "source": [
        "The value of all the price range are the same from the plot"
      ],
      "id": "d193a450"
    },
    {
      "cell_type": "code",
      "execution_count": null,
      "metadata": {
        "id": "69ba248f"
      },
      "outputs": [],
      "source": [
        "#checking for outliers\n",
        "mobile.plot(kind=\"box\",figsize=(18,10),color=\"blue\")"
      ],
      "id": "69ba248f"
    },
    {
      "cell_type": "markdown",
      "metadata": {
        "id": "ab31dc04"
      },
      "source": [
        "There are outliers on fc,px_height and three_g but is not really significant s,therefore there is no need dropping them"
      ],
      "id": "ab31dc04"
    },
    {
      "cell_type": "markdown",
      "metadata": {
        "id": "3f861f77"
      },
      "source": [
        "# Visualizing the relationship between independent variables and price_range"
      ],
      "id": "3f861f77"
    },
    {
      "cell_type": "code",
      "execution_count": null,
      "metadata": {
        "id": "505a1fcb"
      },
      "outputs": [],
      "source": [
        "mobile.columns"
      ],
      "id": "505a1fcb"
    },
    {
      "cell_type": "code",
      "execution_count": null,
      "metadata": {
        "id": "9ef46845"
      },
      "outputs": [],
      "source": [
        "#Battery_power and price_range\n",
        "mobile.plot(x=\"price_range\",y=\"battery_power\",kind=\"scatter\")"
      ],
      "id": "9ef46845"
    },
    {
      "cell_type": "markdown",
      "metadata": {
        "id": "32d13aa6"
      },
      "source": [
        "The battery_Power does not have effect on price_range on the data"
      ],
      "id": "32d13aa6"
    },
    {
      "cell_type": "code",
      "execution_count": null,
      "metadata": {
        "id": "a8fefcfd"
      },
      "outputs": [],
      "source": [
        "#blue and price_range\n",
        "mobile.plot(x=\"price_range\",y=\"clock_speed\",kind=\"scatter\")"
      ],
      "id": "a8fefcfd"
    },
    {
      "cell_type": "markdown",
      "metadata": {
        "id": "f7e576eb"
      },
      "source": [
        "The clock_speed does not have effect on price_range on the data"
      ],
      "id": "f7e576eb"
    },
    {
      "cell_type": "code",
      "execution_count": null,
      "metadata": {
        "id": "10fbd416"
      },
      "outputs": [],
      "source": [
        "mobile.plot(x=\"price_range\",y=\"ram\",kind=\"scatter\")"
      ],
      "id": "10fbd416"
    },
    {
      "cell_type": "markdown",
      "metadata": {
        "id": "e3e597e8"
      },
      "source": [
        " From the plot we can see the more the Ram size the higher the price_range"
      ],
      "id": "e3e597e8"
    },
    {
      "cell_type": "code",
      "execution_count": null,
      "metadata": {
        "id": "c435c317"
      },
      "outputs": [],
      "source": [
        "mobile.plot(x=\"price_range\",y=\"int_memory\",kind=\"scatter\")"
      ],
      "id": "c435c317"
    },
    {
      "cell_type": "markdown",
      "metadata": {
        "id": "8cb45975"
      },
      "source": [
        "# Correlation"
      ],
      "id": "8cb45975"
    },
    {
      "cell_type": "code",
      "execution_count": null,
      "metadata": {
        "id": "dc5bfb05"
      },
      "outputs": [],
      "source": [
        "mobile.corr()"
      ],
      "id": "dc5bfb05"
    },
    {
      "cell_type": "code",
      "execution_count": null,
      "metadata": {
        "id": "6f76f835"
      },
      "outputs": [],
      "source": [
        "mobile.columns"
      ],
      "id": "6f76f835"
    },
    {
      "cell_type": "markdown",
      "metadata": {
        "id": "dde8070c"
      },
      "source": [
        "# Checking the correlation with price_range using the first 10 columns"
      ],
      "id": "dde8070c"
    },
    {
      "cell_type": "code",
      "execution_count": null,
      "metadata": {
        "id": "58dc7080"
      },
      "outputs": [],
      "source": [
        "first_ten=mobile[['battery_power', 'blue', 'clock_speed', 'dual_sim', 'fc', 'four_g',\n",
        "       'int_memory', 'm_dep', 'mobile_wt', 'n_cores','price_range']].corr()\n",
        "first_ten"
      ],
      "id": "58dc7080"
    },
    {
      "cell_type": "markdown",
      "metadata": {
        "id": "8c2f4521"
      },
      "source": [
        "from the table battery_power still has better positive  relationship with price_range compare to the other variables"
      ],
      "id": "8c2f4521"
    },
    {
      "cell_type": "code",
      "execution_count": null,
      "metadata": {
        "id": "ab54e998"
      },
      "outputs": [],
      "source": [
        "last_twenty=mobile[['pc', 'px_height',\n",
        "       'px_width', 'ram', 'sc_h', 'sc_w', 'talk_time', 'three_g',\n",
        "       'touch_screen', 'wifi', 'price_range']].corr()\n",
        "last_twenty"
      ],
      "id": "ab54e998"
    },
    {
      "cell_type": "markdown",
      "metadata": {
        "id": "9b83e69e"
      },
      "source": [
        "From the table Ram,px_width are good predictor of price_range.\n",
        "Ram is the factors that affect price_range the most"
      ],
      "id": "9b83e69e"
    },
    {
      "cell_type": "markdown",
      "metadata": {
        "id": "75fe452e"
      },
      "source": [
        "# Heat Map"
      ],
      "id": "75fe452e"
    },
    {
      "cell_type": "code",
      "execution_count": null,
      "metadata": {
        "id": "5c12110b"
      },
      "outputs": [],
      "source": [
        "#Using Heat map of first ten columns\n",
        "plt.figure(figsize=(12,12))\n",
        "sns.heatmap(first_ten,annot=True,cmap=\"coolwarm\")"
      ],
      "id": "5c12110b"
    },
    {
      "cell_type": "code",
      "execution_count": null,
      "metadata": {
        "id": "df8168a1"
      },
      "outputs": [],
      "source": [
        "#Using Heat map of the last 20 columns\n",
        "plt.figure(figsize=(12,12))\n",
        "sns.heatmap(last_twenty,annot=True,cmap=\"coolwarm\")"
      ],
      "id": "df8168a1"
    },
    {
      "cell_type": "code",
      "execution_count": null,
      "metadata": {
        "id": "5b6e4c77"
      },
      "outputs": [],
      "source": [
        "mobile.columns"
      ],
      "id": "5b6e4c77"
    },
    {
      "cell_type": "markdown",
      "metadata": {
        "id": "mZGzGQAZuqxA"
      },
      "source": [
        "## Feature Selection"
      ],
      "id": "mZGzGQAZuqxA"
    },
    {
      "cell_type": "markdown",
      "metadata": {
        "id": "CnSr7wOiu0KH"
      },
      "source": [
        "Using heatmap,correlation coefficient and scatterplot Ram,px_height,px_width and battery power are the bset predictor of price range"
      ],
      "id": "CnSr7wOiu0KH"
    },
    {
      "cell_type": "markdown",
      "metadata": {
        "id": "884bc1c7"
      },
      "source": [
        "## split the data into x and y"
      ],
      "id": "884bc1c7"
    },
    {
      "cell_type": "code",
      "execution_count": null,
      "metadata": {
        "id": "d03b0422"
      },
      "outputs": [],
      "source": [
        "x=mobile[['battery_power', 'pc', 'px_height',\n",
        "       'px_width', 'ram' ]]\n",
        "y=mobile['price_range']"
      ],
      "id": "d03b0422"
    },
    {
      "cell_type": "code",
      "execution_count": null,
      "metadata": {
        "id": "01efece7"
      },
      "outputs": [],
      "source": [
        "x.shape"
      ],
      "id": "01efece7"
    },
    {
      "cell_type": "code",
      "execution_count": null,
      "metadata": {
        "id": "5b236f6f"
      },
      "outputs": [],
      "source": [
        "y.shape"
      ],
      "id": "5b236f6f"
    },
    {
      "cell_type": "markdown",
      "metadata": {
        "id": "d57c0d9d"
      },
      "source": [
        "# Data Scaling"
      ],
      "id": "d57c0d9d"
    },
    {
      "cell_type": "code",
      "execution_count": null,
      "metadata": {
        "id": "5d84da4f"
      },
      "outputs": [],
      "source": [
        "from sklearn.preprocessing import StandardScaler\n",
        "sc=StandardScaler()\n",
        "sc_x=sc.fit_transform(x)"
      ],
      "id": "5d84da4f"
    },
    {
      "cell_type": "code",
      "execution_count": null,
      "metadata": {
        "id": "41002fa6"
      },
      "outputs": [],
      "source": [
        "sc_x"
      ],
      "id": "41002fa6"
    },
    {
      "cell_type": "markdown",
      "metadata": {
        "id": "3172bdb9"
      },
      "source": [
        "# Spliting the data  using Train_Test_Split"
      ],
      "id": "3172bdb9"
    },
    {
      "cell_type": "code",
      "execution_count": null,
      "metadata": {
        "id": "11af6b1a"
      },
      "outputs": [],
      "source": [
        "from sklearn.model_selection import train_test_split\n",
        "x_train, x_test, y_train, y_test = train_test_split(sc_x,y,test_size=0.30, random_state=1)"
      ],
      "id": "11af6b1a"
    },
    {
      "cell_type": "markdown",
      "metadata": {
        "id": "96eecc45"
      },
      "source": [
        "# Developing the Model using different Classifier"
      ],
      "id": "96eecc45"
    },
    {
      "cell_type": "markdown",
      "metadata": {
        "id": "3d111d3c"
      },
      "source": [
        "# Logistic Regression"
      ],
      "id": "3d111d3c"
    },
    {
      "cell_type": "code",
      "execution_count": null,
      "metadata": {
        "id": "c7c41c29"
      },
      "outputs": [],
      "source": [
        "from sklearn.linear_model import LogisticRegression"
      ],
      "id": "c7c41c29"
    },
    {
      "cell_type": "code",
      "execution_count": null,
      "metadata": {
        "id": "56MSCfRk38D2"
      },
      "outputs": [],
      "source": [
        "LR=LogisticRegression(random_state=42)\n",
        "#training the model\n",
        "LR.fit(x_train,y_train)"
      ],
      "id": "56MSCfRk38D2"
    },
    {
      "cell_type": "code",
      "execution_count": null,
      "metadata": {
        "id": "1V_dYQGCPQM6"
      },
      "outputs": [],
      "source": [
        "#making predictions\n",
        "LR_pred=LR.predict(x_test)\n",
        "LR_pred"
      ],
      "id": "1V_dYQGCPQM6"
    },
    {
      "cell_type": "code",
      "execution_count": null,
      "metadata": {
        "id": "ShtBDZ3kNX7Z"
      },
      "outputs": [],
      "source": [
        "from sklearn.tree import DecisionTreeClassifier\n",
        "dtc=DecisionTreeClassifier()\n",
        "#training the model\n",
        "dtc.fit(x_train,y_train)"
      ],
      "id": "ShtBDZ3kNX7Z"
    },
    {
      "cell_type": "code",
      "execution_count": null,
      "metadata": {
        "id": "EmmYs1QQQhnP"
      },
      "outputs": [],
      "source": [
        "#making predictions\n",
        "dtc_pred=dtc.predict(x_test)\n",
        "dtc_pred"
      ],
      "id": "EmmYs1QQQhnP"
    },
    {
      "cell_type": "markdown",
      "metadata": {
        "id": "nLB0Kz1_QoLY"
      },
      "source": [
        "## Naive Bayes"
      ],
      "id": "nLB0Kz1_QoLY"
    },
    {
      "cell_type": "code",
      "execution_count": null,
      "metadata": {
        "id": "2pLgWgZrOjNo"
      },
      "outputs": [],
      "source": [
        "from sklearn.naive_bayes import GaussianNB\n",
        "nbc=GaussianNB()\n",
        "#training the model\n",
        "nbc.fit(x_train,y_train)"
      ],
      "id": "2pLgWgZrOjNo"
    },
    {
      "cell_type": "code",
      "execution_count": null,
      "metadata": {
        "id": "LSed8FYJRY3_"
      },
      "outputs": [],
      "source": [
        "#predictions\n",
        "pred_nbc=nbc.predict(x_test)\n",
        "pred_nbc"
      ],
      "id": "LSed8FYJRY3_"
    },
    {
      "cell_type": "markdown",
      "metadata": {
        "id": "c98UvnjdzV0E"
      },
      "source": [
        "# KNeighbourClassifier"
      ],
      "id": "c98UvnjdzV0E"
    },
    {
      "cell_type": "code",
      "execution_count": null,
      "metadata": {
        "id": "12bGz2MPN7Fm"
      },
      "outputs": [],
      "source": [
        "from sklearn.neighbors import KNeighborsClassifier\n",
        "knn= KNeighborsClassifier()\n",
        "#training the model\n",
        "knn.fit(x_train,y_train)"
      ],
      "id": "12bGz2MPN7Fm"
    },
    {
      "cell_type": "code",
      "execution_count": null,
      "metadata": {
        "id": "tONmZCaWQ9Io"
      },
      "outputs": [],
      "source": [
        "#making the predictions\n",
        "knn_pred=knn.predict(x_test)\n",
        "knn_pred"
      ],
      "id": "tONmZCaWQ9Io"
    },
    {
      "cell_type": "markdown",
      "metadata": {
        "id": "5vnf2VaU0UTZ"
      },
      "source": [
        "#Support Vector Machine(SVM)"
      ],
      "id": "5vnf2VaU0UTZ"
    },
    {
      "cell_type": "code",
      "execution_count": null,
      "metadata": {
        "id": "mnYRMRHzM1yQ"
      },
      "outputs": [],
      "source": [
        "from sklearn.svm import SVC\n",
        "svm=SVC()\n",
        "#training the model\n",
        "svm.fit(x_train,y_train)"
      ],
      "id": "mnYRMRHzM1yQ"
    },
    {
      "cell_type": "code",
      "execution_count": null,
      "metadata": {
        "id": "Yvw__CqSQNby"
      },
      "outputs": [],
      "source": [
        "#making predictions\n",
        "svm_pred=svm.predict(x_test)\n",
        "svm_pred"
      ],
      "id": "Yvw__CqSQNby"
    },
    {
      "cell_type": "markdown",
      "metadata": {
        "id": "2HYQTkeqQaZO"
      },
      "source": [
        "## Random Forest"
      ],
      "id": "2HYQTkeqQaZO"
    },
    {
      "cell_type": "code",
      "execution_count": null,
      "metadata": {
        "id": "wBWMG2da6h6H"
      },
      "outputs": [],
      "source": [
        "from sklearn.ensemble import RandomForestClassifier"
      ],
      "id": "wBWMG2da6h6H"
    },
    {
      "cell_type": "code",
      "execution_count": null,
      "metadata": {
        "id": "aM7BrebM76Hh"
      },
      "outputs": [],
      "source": [
        "rcf=RandomForestClassifier(criterion=\"entropy\")\n",
        "#training the model\n",
        "rcf.fit(x_train,y_train)"
      ],
      "id": "aM7BrebM76Hh"
    },
    {
      "cell_type": "code",
      "execution_count": null,
      "metadata": {
        "id": "fuEJSPDeMkBz"
      },
      "outputs": [],
      "source": [
        "#making predictions\n",
        "rcf_pred=rcf.predict(x_test)\n",
        "rcf_pred"
      ],
      "id": "fuEJSPDeMkBz"
    },
    {
      "cell_type": "code",
      "execution_count": null,
      "metadata": {
        "id": "E1ZH7EsRwB0m"
      },
      "outputs": [],
      "source": [],
      "id": "E1ZH7EsRwB0m"
    },
    {
      "cell_type": "markdown",
      "metadata": {
        "id": "93adafe7"
      },
      "source": [
        "# Model Evaluation For Logistic Regression"
      ],
      "id": "93adafe7"
    },
    {
      "cell_type": "code",
      "execution_count": null,
      "metadata": {
        "id": "f0afe7f3"
      },
      "outputs": [],
      "source": [
        "#importing the library\n",
        "from sklearn.metrics import accuracy_score\n",
        "from sklearn.metrics import ConfusionMatrixDisplay\n",
        "from sklearn.metrics import confusion_matrix\n",
        "from sklearn.metrics import classification_report"
      ],
      "id": "f0afe7f3"
    },
    {
      "cell_type": "code",
      "execution_count": null,
      "metadata": {
        "id": "wmqC7xYJTYcZ"
      },
      "outputs": [],
      "source": [
        "\n",
        "print(\"The accuracy score of Logistic Regression:\",accuracy_score(LR_pred,y_test))\n",
        "print(\"The accuracy score of Random Forest Classifier:\",accuracy_score(rcf_pred,y_test))\n",
        "print(\"The accuracy score of Support Vector Machine:\",accuracy_score(svm_pred,y_test))\n",
        "print(\"The accuracy score of Decision Tree:\",accuracy_score(dtc_pred,y_test))\n",
        "print(\"The accuracy score of KNeighbourClassifier:\",accuracy_score(knn_pred,y_test))\n",
        "print(\"The accuracy score of NaiveBayesClassifier:\",accuracy_score(pred_nbc,y_test))\n"
      ],
      "id": "wmqC7xYJTYcZ"
    },
    {
      "cell_type": "code",
      "execution_count": null,
      "metadata": {
        "id": "-WC83JMwYfb9"
      },
      "outputs": [],
      "source": [
        "\n",
        "print(\"The confusion matrix of Logistic Regression:\",confusion_matrix(LR_pred,y_test))\n",
        "print(\"The confusion matrix of Random Forest Classifier:\",confusion_matrix(rcf_pred,y_test))\n",
        "print(\"The confusion matrix of Support Vector Machine:\",confusion_matrix(svm_pred,y_test))\n",
        "print(\"The confusion matrix of Decision Tree:\",confusion_matrix(dtc_pred,y_test))\n",
        "print(\"The confusion matrix of KNeighbourClassifier:\",confusion_matrix(knn_pred,y_test))\n",
        "print(\"The confusion matrix of NaiveBayesClassifier:\",confusion_matrix(pred_nbc,y_test))\n"
      ],
      "id": "-WC83JMwYfb9"
    },
    {
      "cell_type": "code",
      "execution_count": null,
      "metadata": {
        "id": "OyNJS4VMe6LR"
      },
      "outputs": [],
      "source": [
        "print(\"The classification_report of Logistic Regression:\",classification_report(LR_pred,y_test))\n",
        "print(\"The classification_report of Random Forest Classifier:\",classification_report(rcf_pred,y_test))\n",
        "print(\"The classification_report of Support Vector Machine:\",classification_report(svm_pred,y_test))\n",
        "print(\"The classification_report of Decision Tree:\",classification_report(dtc_pred,y_test))\n",
        "print(\"The classification_report KNeighbourClassifier:\",classification_report(knn_pred,y_test))\n",
        "print(\"The classification_report of NaiveBayesClassifier:\",classification_report(pred_nbc,y_test))\n"
      ],
      "id": "OyNJS4VMe6LR"
    },
    {
      "cell_type": "code",
      "execution_count": null,
      "metadata": {
        "id": "q3U3lyYtIhCp"
      },
      "outputs": [],
      "source": [],
      "id": "q3U3lyYtIhCp"
    },
    {
      "cell_type": "markdown",
      "metadata": {
        "id": "1VhbroIrimbm"
      },
      "source": [
        "# Logistic Regression"
      ],
      "id": "1VhbroIrimbm"
    },
    {
      "cell_type": "code",
      "execution_count": null,
      "metadata": {
        "id": "hvtsYq8yiM5Q"
      },
      "outputs": [],
      "source": [
        "c_lr=confusion_matrix(LR_pred,y_test)\n",
        "disp = ConfusionMatrixDisplay(confusion_matrix=c_lr, display_labels=['Class 0', 'Class 1','Class 2','Class 3'])\n",
        "disp.plot()\n",
        "plt.show()"
      ],
      "id": "hvtsYq8yiM5Q"
    },
    {
      "cell_type": "markdown",
      "metadata": {
        "id": "qUsC1t23iz1j"
      },
      "source": [
        "# Random Forest Classifier\n",
        "\n"
      ],
      "id": "qUsC1t23iz1j"
    },
    {
      "cell_type": "code",
      "execution_count": null,
      "metadata": {
        "id": "CZlKJcuvi4YE"
      },
      "outputs": [],
      "source": [
        "c_Rf=confusion_matrix(rcf_pred,y_test)\n",
        "disp = ConfusionMatrixDisplay(confusion_matrix=c_Rf, display_labels=['Class 0', 'Class 1','Class 2','Class 3'])\n",
        "disp.plot()\n",
        "plt.show()"
      ],
      "id": "CZlKJcuvi4YE"
    },
    {
      "cell_type": "markdown",
      "metadata": {
        "id": "yzQyb_BAjgLN"
      },
      "source": [
        "# Support Vector Machine(SVM)"
      ],
      "id": "yzQyb_BAjgLN"
    },
    {
      "cell_type": "code",
      "execution_count": null,
      "metadata": {
        "id": "vTqMVRCiji8s"
      },
      "outputs": [],
      "source": [
        "c_svm=confusion_matrix(svm_pred,y_test)\n",
        "disp = ConfusionMatrixDisplay(confusion_matrix=c_svm, display_labels=['Class 0', 'Class 1','Class 2','Class 3'])\n",
        "disp.plot()\n",
        "plt.show()"
      ],
      "id": "vTqMVRCiji8s"
    },
    {
      "cell_type": "markdown",
      "metadata": {
        "id": "W9UMoEt2ksA5"
      },
      "source": [
        "# Decision Tree"
      ],
      "id": "W9UMoEt2ksA5"
    },
    {
      "cell_type": "code",
      "execution_count": null,
      "metadata": {
        "id": "d-7Mc_0qkN2k"
      },
      "outputs": [],
      "source": [
        "c_dtc=confusion_matrix(dtc_pred,y_test)\n",
        "disp = ConfusionMatrixDisplay(confusion_matrix=c_dtc, display_labels=['Class 0', 'Class 1','Class 2','Class 3'])\n",
        "disp.plot()\n",
        "plt.show()"
      ],
      "id": "d-7Mc_0qkN2k"
    },
    {
      "cell_type": "markdown",
      "metadata": {
        "id": "ntL0SHnslFB4"
      },
      "source": [
        "## KNeigbourClassifier"
      ],
      "id": "ntL0SHnslFB4"
    },
    {
      "cell_type": "code",
      "execution_count": null,
      "metadata": {
        "id": "2q1l0_b9kQLH"
      },
      "outputs": [],
      "source": [
        "c_knn=confusion_matrix(knn_pred,y_test)\n",
        "disp = ConfusionMatrixDisplay(confusion_matrix=c_knn, display_labels=['Class 0', 'Class 1','Class 2','Class 3'])\n",
        "disp.plot()\n",
        "plt.show()"
      ],
      "id": "2q1l0_b9kQLH"
    },
    {
      "cell_type": "markdown",
      "metadata": {
        "id": "lsPd2FDDlnrc"
      },
      "source": [
        "## NaiveBayesClassifier"
      ],
      "id": "lsPd2FDDlnrc"
    },
    {
      "cell_type": "code",
      "execution_count": null,
      "metadata": {
        "id": "j0FtOnHslZ-l"
      },
      "outputs": [],
      "source": [
        "c_NBC=confusion_matrix(pred_nbc,y_test)\n",
        "disp = ConfusionMatrixDisplay(confusion_matrix=c_NBC, display_labels=['Class 0', 'Class 1','Class 2','Class 3'])\n",
        "disp.plot()\n",
        "plt.show()\n"
      ],
      "id": "j0FtOnHslZ-l"
    },
    {
      "cell_type": "markdown",
      "metadata": {
        "id": "ZsdCOBYPzErR"
      },
      "source": [
        "## Choosing the best model"
      ],
      "id": "ZsdCOBYPzErR"
    },
    {
      "cell_type": "markdown",
      "metadata": {
        "id": "drSUMQn563v1"
      },
      "source": [
        "Logistic Regression is the best model for the data Using accuracy score"
      ],
      "id": "drSUMQn563v1"
    },
    {
      "cell_type": "markdown",
      "metadata": {
        "id": "4nEBHApS7End"
      },
      "source": [
        "### Predicting the new price range using Logistic Regression"
      ],
      "id": "4nEBHApS7End"
    },
    {
      "cell_type": "code",
      "execution_count": null,
      "metadata": {
        "id": "CDpj9cpb70E-"
      },
      "outputs": [],
      "source": [
        "#new mobile data\n",
        "new_mobile=(4,2,5,5.6,2.9)"
      ],
      "id": "CDpj9cpb70E-"
    },
    {
      "cell_type": "code",
      "execution_count": null,
      "metadata": {
        "id": "yDEqkt75-Yw4"
      },
      "outputs": [],
      "source": [
        "#new input data\n",
        "array_new_data=np.asarray(new_mobile)"
      ],
      "id": "yDEqkt75-Yw4"
    },
    {
      "cell_type": "code",
      "execution_count": null,
      "metadata": {
        "id": "UvqSaAFE-Yw5"
      },
      "outputs": [],
      "source": [
        "# reshape the data\n",
        "reshape_new_data=array_new_data.reshape(1,-1)"
      ],
      "id": "UvqSaAFE-Yw5"
    },
    {
      "cell_type": "code",
      "execution_count": null,
      "metadata": {
        "id": "o81hzyHh-Yw6"
      },
      "outputs": [],
      "source": [
        "#making the prediction\n",
        "scale_new_data=sc.fit_transform(reshape_new_data)\n",
        "print(scale_new_data)"
      ],
      "id": "o81hzyHh-Yw6"
    },
    {
      "cell_type": "code",
      "execution_count": null,
      "metadata": {
        "id": "olvAHkv--Yw7"
      },
      "outputs": [],
      "source": [
        "new_pred=LR.predict(reshape_new_data)\n",
        "new_pred"
      ],
      "id": "olvAHkv--Yw7"
    },
    {
      "cell_type": "code",
      "execution_count": null,
      "metadata": {
        "id": "nZ1pA2M6nnoZ"
      },
      "outputs": [],
      "source": [
        "if new_pred==0:\n",
        "  print(\"low price\")\n",
        "elif new_pred==1:\n",
        "  print(\"medium price\")\n",
        "elif new_pred==2:\n",
        "  print(\"high price\")\n",
        "elif new_pred==3:\n",
        "  print(\"very high price\")\n",
        "else:\n",
        "  print(\"wrong\")"
      ],
      "id": "nZ1pA2M6nnoZ"
    },
    {
      "cell_type": "markdown",
      "metadata": {
        "id": "m8NoyYFul7b-"
      },
      "source": [
        "##CONCLUSION"
      ],
      "id": "m8NoyYFul7b-"
    },
    {
      "cell_type": "markdown",
      "metadata": {
        "id": "5PBfZQvAl-0L"
      },
      "source": [
        "Logistic Regression is the best model for the data considering different model evaluation metrics"
      ],
      "id": "5PBfZQvAl-0L"
    },
    {
      "cell_type": "markdown",
      "metadata": {
        "id": "swd3lRJRrrkP"
      },
      "source": [
        "## ANSWER TO THE ANALYTICAL QUESTIONS"
      ],
      "id": "swd3lRJRrrkP"
    },
    {
      "cell_type": "markdown",
      "metadata": {
        "id": "0UbKRdNhEqIs"
      },
      "source": [
        "1.The factors that have most influence on mobile price range are px width,RAM and battery power using correlation"
      ],
      "id": "0UbKRdNhEqIs"
    },
    {
      "cell_type": "markdown",
      "metadata": {
        "id": "VTynkB4_F5HN"
      },
      "source": [
        "2.After developing the model a Logistic Regression system has been built to predict the data on new patients"
      ],
      "id": "VTynkB4_F5HN"
    },
    {
      "cell_type": "code",
      "execution_count": null,
      "metadata": {
        "id": "IQCCk1M8vylu"
      },
      "outputs": [],
      "source": [],
      "id": "IQCCk1M8vylu"
    }
  ],
  "metadata": {
    "colab": {
      "provenance": [],
      "include_colab_link": true
    },
    "kernelspec": {
      "display_name": "Python 3 (ipykernel)",
      "language": "python",
      "name": "python3"
    },
    "language_info": {
      "codemirror_mode": {
        "name": "ipython",
        "version": 3
      },
      "file_extension": ".py",
      "mimetype": "text/x-python",
      "name": "python",
      "nbconvert_exporter": "python",
      "pygments_lexer": "ipython3",
      "version": "3.9.12"
    }
  },
  "nbformat": 4,
  "nbformat_minor": 5
}